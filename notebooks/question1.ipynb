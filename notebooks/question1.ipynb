{
 "cells": [
  {
   "cell_type": "markdown",
   "id": "ff20dbea",
   "metadata": {},
   "source": [
    "# Question 1 solution\n",
    "\n",
    "1. Write a query which counts the amount of matches which took place in 2018 and had at least one premium user participating.\n",
    "\n",
    "Solution a\n",
    "\n",
    "```sql\n",
    "SELECT game_id, count(*)\n",
    "FROM (\n",
    "      SELECT DISTINCT game_id, match_id\n",
    "      FROM faceit\n",
    "      WHERE membership = 'premium'\n",
    "      -- AND YEAR(created_at) = 2018\n",
    "      AND strftime('%Y', created_at) = 2018\n",
    "      GROUP BY game_id, match_id\n",
    ")\n",
    "GROUP BY game_id\n",
    "```\n",
    "\n",
    "Solution b\n",
    "\n",
    "```sql\n",
    "SELECT game_id, COUNT(*)\n",
    "FROM (\n",
    "    SELECT DISTINCT game_id, match_id\n",
    "    FROM faceit\n",
    "    WHERE membership = 'premium'\n",
    "    -- AND YEAR(created_at) = 2018\n",
    "    AND strftime('%Y', created_at) = 2018\n",
    "    GROUP BY game_id, match_id, membership\n",
    "    HAVING COUNT(*) >= 1\n",
    ")\n",
    "GROUP BY game_id\n",
    "```"
   ]
  },
  {
   "cell_type": "markdown",
   "id": "dc5bc85d",
   "metadata": {},
   "source": [
    "2. Write a query which finds the list of all users who had at least one winning streak of 3 matches on the platform. A streak here is defined as achieving three or more consecutive wins in the same game. If a user won a match then his/her faction will be the same as the faction in the winner column.\n",
    "\n",
    "```sql\n",
    "WITH user_streaks AS (\n",
    "  SELECT\n",
    "    user_id,\n",
    "    match_id,\n",
    "    game_id,\n",
    "    created_at,\n",
    "    iif (faction=winner, true, false) AS result_win,\n",
    "    ROW_NUMBER() OVER (PARTITION BY user_id ORDER BY created_at) as user_order,\n",
    "    ROW_NUMBER() OVER (PARTITION BY user_id, iif (faction=winner, true, false) ORDER BY created_at ASC) AS user_condition_order,\n",
    "    ROW_NUMBER() OVER (PARTITION BY user_id ORDER BY created_at) - ROW_NUMBER() OVER (PARTITION BY user_id, iif (faction=winner, true, false) ORDER BY created_at ASC) AS streak_id\n",
    "  FROM faceit\n",
    ")\n",
    "SELECT DISTINCT user_id\n",
    "FROM user_streaks\n",
    "WHERE result_win = true\n",
    "GROUP BY user_id, streak_id\n",
    "HAVING count(*) >= 3\n",
    "```"
   ]
  }
 ],
 "metadata": {
  "kernelspec": {
   "display_name": "Python 3 (ipykernel)",
   "language": "python",
   "name": "python3"
  },
  "language_info": {
   "codemirror_mode": {
    "name": "ipython",
    "version": 3
   },
   "file_extension": ".py",
   "mimetype": "text/x-python",
   "name": "python",
   "nbconvert_exporter": "python",
   "pygments_lexer": "ipython3",
   "version": "3.10.8"
  }
 },
 "nbformat": 4,
 "nbformat_minor": 5
}
